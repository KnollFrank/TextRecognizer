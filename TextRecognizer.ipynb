{
 "cells": [
  {
   "cell_type": "code",
   "execution_count": null,
   "id": "8e6845c0",
   "metadata": {},
   "outputs": [],
   "source": [
    "baseDir = \"~/AndroidStudioProjects/TextRecognizer\"\n",
    "\n",
    "def detectTextInImage(captchaImage):\n",
    "    ! cp $captchaImage $baseDir/app/src/main/assets/captchas/captcha_image.jpeg\n",
    "    ! cd $baseDir;./gradlew connectedAndroidTest\n",
    "    textInImage = ! adb shell \"run-as com.google.mlkit.vision.demo cat /data/data/com.google.mlkit.vision.demo/files/captcha_image.txt\"\n",
    "    return textInImage"
   ]
  },
  {
   "cell_type": "code",
   "execution_count": null,
   "id": "167340b2",
   "metadata": {},
   "outputs": [],
   "source": [
    "import os\n",
    "\n",
    "def startEmulator():\n",
    "    os.system(\"/home/frankknoll/Android/Sdk/emulator/emulator -avd Pixel_2_API_30 -no-window &\")\n",
    "    \n",
    "def stopEmulator():\n",
    "    ! adb emu kill"
   ]
  },
  {
   "cell_type": "code",
   "execution_count": null,
   "id": "d21f632f",
   "metadata": {},
   "outputs": [],
   "source": [
    "startEmulator()"
   ]
  },
  {
   "cell_type": "code",
   "execution_count": null,
   "id": "29d48f0c",
   "metadata": {
    "scrolled": false
   },
   "outputs": [],
   "source": [
    "textByImage = {}\n",
    "for i in range(1, 2):\n",
    "    captchaImage = \"captchaImage\" + str(i) + \".jpeg\"\n",
    "    textByImage[captchaImage] = detectTextInImage(\"/home/frankknoll/Dokumente/Corona/CAPTCHA/images/VAERS/\" + captchaImage)"
   ]
  },
  {
   "cell_type": "code",
   "execution_count": null,
   "id": "26105593",
   "metadata": {},
   "outputs": [],
   "source": [
    "stopEmulator()"
   ]
  },
  {
   "cell_type": "code",
   "execution_count": null,
   "id": "3479e009",
   "metadata": {},
   "outputs": [],
   "source": [
    "textByImage"
   ]
  }
 ],
 "metadata": {
  "kernelspec": {
   "display_name": "Python 3 (ipykernel)",
   "language": "python",
   "name": "python3"
  },
  "language_info": {
   "codemirror_mode": {
    "name": "ipython",
    "version": 3
   },
   "file_extension": ".py",
   "mimetype": "text/x-python",
   "name": "python",
   "nbconvert_exporter": "python",
   "pygments_lexer": "ipython3",
   "version": "3.10.4"
  }
 },
 "nbformat": 4,
 "nbformat_minor": 5
}
