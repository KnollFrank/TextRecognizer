{
 "cells": [
  {
   "cell_type": "code",
   "execution_count": 22,
   "id": "8e6845c0",
   "metadata": {},
   "outputs": [],
   "source": [
    "def detectTextInImage(captchaImage, detectTextFile):\n",
    "    ! cp $captchaImage /home/frankknoll/AndroidStudioProjects/TextRecognizer/app/src/main/assets/captchas/captcha_image.jpeg\n",
    "    ! cd ~/AndroidStudioProjects/TextRecognizer;./gradlew connectedAndroidTest\n",
    "    ! adb shell \"run-as com.google.mlkit.vision.demo cat /data/data/com.google.mlkit.vision.demo/files/captcha_image.txt\" > $detectTextFile\n"
   ]
  },
  {
   "cell_type": "code",
   "execution_count": null,
   "id": "29d48f0c",
   "metadata": {
    "scrolled": false
   },
   "outputs": [],
   "source": [
    "for x in range(1, 21):\n",
    "  detectTextInImage(\"/home/frankknoll/Dokumente/Corona/CAPTCHA/images/VAERS/captchaImage\" + str(x) + \".jpeg\", \"/home/frankknoll/Dokumente/Corona/CAPTCHA/images/VAERS/captchaImage\" + str(x) + \".txt\")\n"
   ]
  }
 ],
 "metadata": {
  "kernelspec": {
   "display_name": "Python 3 (ipykernel)",
   "language": "python",
   "name": "python3"
  },
  "language_info": {
   "codemirror_mode": {
    "name": "ipython",
    "version": 3
   },
   "file_extension": ".py",
   "mimetype": "text/x-python",
   "name": "python",
   "nbconvert_exporter": "python",
   "pygments_lexer": "ipython3",
   "version": "3.10.4"
  }
 },
 "nbformat": 4,
 "nbformat_minor": 5
}
